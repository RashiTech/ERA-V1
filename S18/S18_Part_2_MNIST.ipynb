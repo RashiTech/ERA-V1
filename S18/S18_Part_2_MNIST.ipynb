{
  "cells": [
    {
      "cell_type": "markdown",
      "metadata": {
        "id": "view-in-github"
      },
      "source": [
        "<a href=\"https://colab.research.google.com/github/MPGarg/Assignment-13/blob/main/EVA8_Assigment_13_Part_2_MNIST.ipynb\" target=\"_parent\"><img src=\"https://colab.research.google.com/assets/colab-badge.svg\" alt=\"Open In Colab\"/></a>"
      ]
    },
    {
      "cell_type": "markdown",
      "metadata": {
        "id": "aO-7t1Y7-hV4"
      },
      "source": [
        "# Import Libraries"
      ]
    },
    {
      "cell_type": "code",
      "execution_count": 1,
      "metadata": {
        "id": "8kH16rnZ7wt_"
      },
      "outputs": [],
      "source": [
        "from __future__ import print_function\n",
        "import torch.optim as optim\n",
        "from torchvision import datasets, transforms\n",
        "import torch\n",
        "import torch.nn.functional as F\n",
        "import torchvision\n",
        "#from torchsummary import summary\n",
        "import numpy as np\n",
        "import torch.nn as nn\n",
        "import matplotlib.pyplot as plt"
      ]
    },
    {
      "cell_type": "code",
      "execution_count": 2,
      "metadata": {
        "colab": {
          "base_uri": "https://localhost:8080/"
        },
        "id": "F3UI9Hc6GB9c",
        "outputId": "6036c529-6e40-4df0-bb47-4e745a5ced35"
      },
      "outputs": [
        {
          "output_type": "stream",
          "name": "stdout",
          "text": [
            "Collecting torch_lr_finder\n",
            "  Downloading torch_lr_finder-0.2.1-py3-none-any.whl (11 kB)\n",
            "Requirement already satisfied: matplotlib in /usr/local/lib/python3.10/dist-packages (from torch_lr_finder) (3.7.1)\n",
            "Requirement already satisfied: numpy in /usr/local/lib/python3.10/dist-packages (from torch_lr_finder) (1.23.5)\n",
            "Requirement already satisfied: torch>=0.4.1 in /usr/local/lib/python3.10/dist-packages (from torch_lr_finder) (2.0.1+cu118)\n",
            "Requirement already satisfied: tqdm in /usr/local/lib/python3.10/dist-packages (from torch_lr_finder) (4.66.1)\n",
            "Requirement already satisfied: packaging in /usr/local/lib/python3.10/dist-packages (from torch_lr_finder) (23.1)\n",
            "Requirement already satisfied: filelock in /usr/local/lib/python3.10/dist-packages (from torch>=0.4.1->torch_lr_finder) (3.12.2)\n",
            "Requirement already satisfied: typing-extensions in /usr/local/lib/python3.10/dist-packages (from torch>=0.4.1->torch_lr_finder) (4.5.0)\n",
            "Requirement already satisfied: sympy in /usr/local/lib/python3.10/dist-packages (from torch>=0.4.1->torch_lr_finder) (1.12)\n",
            "Requirement already satisfied: networkx in /usr/local/lib/python3.10/dist-packages (from torch>=0.4.1->torch_lr_finder) (3.1)\n",
            "Requirement already satisfied: jinja2 in /usr/local/lib/python3.10/dist-packages (from torch>=0.4.1->torch_lr_finder) (3.1.2)\n",
            "Requirement already satisfied: triton==2.0.0 in /usr/local/lib/python3.10/dist-packages (from torch>=0.4.1->torch_lr_finder) (2.0.0)\n",
            "Requirement already satisfied: cmake in /usr/local/lib/python3.10/dist-packages (from triton==2.0.0->torch>=0.4.1->torch_lr_finder) (3.27.4.1)\n",
            "Requirement already satisfied: lit in /usr/local/lib/python3.10/dist-packages (from triton==2.0.0->torch>=0.4.1->torch_lr_finder) (16.0.6)\n",
            "Requirement already satisfied: contourpy>=1.0.1 in /usr/local/lib/python3.10/dist-packages (from matplotlib->torch_lr_finder) (1.1.0)\n",
            "Requirement already satisfied: cycler>=0.10 in /usr/local/lib/python3.10/dist-packages (from matplotlib->torch_lr_finder) (0.11.0)\n",
            "Requirement already satisfied: fonttools>=4.22.0 in /usr/local/lib/python3.10/dist-packages (from matplotlib->torch_lr_finder) (4.42.1)\n",
            "Requirement already satisfied: kiwisolver>=1.0.1 in /usr/local/lib/python3.10/dist-packages (from matplotlib->torch_lr_finder) (1.4.5)\n",
            "Requirement already satisfied: pillow>=6.2.0 in /usr/local/lib/python3.10/dist-packages (from matplotlib->torch_lr_finder) (9.4.0)\n",
            "Requirement already satisfied: pyparsing>=2.3.1 in /usr/local/lib/python3.10/dist-packages (from matplotlib->torch_lr_finder) (3.1.1)\n",
            "Requirement already satisfied: python-dateutil>=2.7 in /usr/local/lib/python3.10/dist-packages (from matplotlib->torch_lr_finder) (2.8.2)\n",
            "Requirement already satisfied: six>=1.5 in /usr/local/lib/python3.10/dist-packages (from python-dateutil>=2.7->matplotlib->torch_lr_finder) (1.16.0)\n",
            "Requirement already satisfied: MarkupSafe>=2.0 in /usr/local/lib/python3.10/dist-packages (from jinja2->torch>=0.4.1->torch_lr_finder) (2.1.3)\n",
            "Requirement already satisfied: mpmath>=0.19 in /usr/local/lib/python3.10/dist-packages (from sympy->torch>=0.4.1->torch_lr_finder) (1.3.0)\n",
            "Installing collected packages: torch_lr_finder\n",
            "Successfully installed torch_lr_finder-0.2.1\n"
          ]
        },
        {
          "output_type": "stream",
          "name": "stderr",
          "text": [
            "/usr/local/lib/python3.10/dist-packages/torch_lr_finder/lr_finder.py:5: TqdmExperimentalWarning: Using `tqdm.autonotebook.tqdm` in notebook mode. Use `tqdm.tqdm` instead to force console mode (e.g. in jupyter console)\n",
            "  from tqdm.autonotebook import tqdm\n"
          ]
        }
      ],
      "source": [
        "#!pip install -U albumentations\n",
        "!pip install torch_lr_finder -q\n",
        "import albumentations as A\n",
        "from albumentations.pytorch import ToTensorV2\n",
        "from torch_lr_finder import LRFinder"
      ]
    },
    {
      "cell_type": "markdown",
      "metadata": {
        "id": "nynn8mWhKfjK"
      },
      "source": [
        "# Import files from GIT Hub"
      ]
    },
    {
      "cell_type": "code",
      "execution_count": 3,
      "metadata": {
        "colab": {
          "base_uri": "https://localhost:8080/"
        },
        "id": "y-RyQ-2RJg1u",
        "outputId": "62c14768-e903-48b4-c45f-47402d4bacf0"
      },
      "outputs": [
        {
          "output_type": "stream",
          "name": "stdout",
          "text": [
            "Cloning into 'main_repo'...\n",
            "remote: Enumerating objects: 167, done.\u001b[K\n",
            "remote: Counting objects: 100% (19/19), done.\u001b[K\n",
            "remote: Compressing objects: 100% (19/19), done.\u001b[K\n",
            "remote: Total 167 (delta 8), reused 0 (delta 0), pack-reused 148\u001b[K\n",
            "Receiving objects: 100% (167/167), 48.80 KiB | 1.88 MiB/s, done.\n",
            "Resolving deltas: 100% (90/90), done.\n"
          ]
        }
      ],
      "source": [
        "!git clone https://github.com/RashiTech/main_repo.git"
      ]
    },
    {
      "cell_type": "markdown",
      "metadata": {
        "id": "UJLodqnCKoYV"
      },
      "source": [
        "# VAE class is imported"
      ]
    },
    {
      "cell_type": "code",
      "execution_count": 4,
      "metadata": {
        "id": "dtue6nQ3KKxq"
      },
      "outputs": [],
      "source": [
        "from main_repo.models import vae\n",
        "from main_repo.models.vae import cVAE"
      ]
    },
    {
      "cell_type": "markdown",
      "metadata": {
        "id": "9r3vSx1sEw2H"
      },
      "source": [
        "# Import Other fuctions"
      ]
    },
    {
      "cell_type": "code",
      "execution_count": 5,
      "metadata": {
        "id": "mdp6NromE1eJ"
      },
      "outputs": [],
      "source": [
        "from main_repo import train_test, utils\n",
        "from main_repo.utils import *\n",
        "from main_repo.train_test import *"
      ]
    },
    {
      "cell_type": "markdown",
      "metadata": {
        "id": "CkVuQIPMGPN7"
      },
      "source": [
        "# Assign device"
      ]
    },
    {
      "cell_type": "code",
      "execution_count": 6,
      "metadata": {
        "colab": {
          "base_uri": "https://localhost:8080/"
        },
        "id": "IlXBzygIDbz0",
        "outputId": "0a4d0c60-4732-4fd8-b10a-c69a5b5a62a8"
      },
      "outputs": [
        {
          "output_type": "stream",
          "name": "stdout",
          "text": [
            "cuda\n"
          ]
        }
      ],
      "source": [
        "device = \"cuda\" if torch.cuda.is_available() else \"cpu\"\n",
        "print(device)"
      ]
    },
    {
      "cell_type": "code",
      "source": [
        "try:\n",
        "    from torchinfo import summary\n",
        "except:\n",
        "    print(\"[INFO] Couldn't find torchinfo... installing it.\")\n",
        "    !pip install -q torchinfo\n",
        "    from torchinfo import summary"
      ],
      "metadata": {
        "colab": {
          "base_uri": "https://localhost:8080/"
        },
        "id": "_kwnhsP3CAk-",
        "outputId": "cb7b6285-561c-4353-ce82-588bc28440c6"
      },
      "execution_count": 7,
      "outputs": [
        {
          "output_type": "stream",
          "name": "stdout",
          "text": [
            "[INFO] Couldn't find torchinfo... installing it.\n"
          ]
        }
      ]
    },
    {
      "cell_type": "code",
      "execution_count": 8,
      "metadata": {
        "colab": {
          "base_uri": "https://localhost:8080/"
        },
        "id": "8T3HfBdiDb45",
        "outputId": "3fcad550-30bf-4db7-e77d-16570a78c918"
      },
      "outputs": [
        {
          "output_type": "execute_result",
          "data": {
            "text/plain": [
              "cVAE(\n",
              "  (encoder): Encoder(\n",
              "    (encode): Sequential(\n",
              "      (0): Conv2d(1, 16, kernel_size=(5, 5), stride=(1, 1))\n",
              "      (1): BatchNorm2d(16, eps=1e-05, momentum=0.1, affine=True, track_running_stats=True)\n",
              "      (2): ReLU(inplace=True)\n",
              "      (3): Conv2d(16, 32, kernel_size=(5, 5), stride=(1, 1))\n",
              "      (4): BatchNorm2d(32, eps=1e-05, momentum=0.1, affine=True, track_running_stats=True)\n",
              "      (5): ReLU(inplace=True)\n",
              "      (6): MaxPool2d(kernel_size=2, stride=2, padding=0, dilation=1, ceil_mode=False)\n",
              "      (7): Conv2d(32, 64, kernel_size=(3, 3), stride=(1, 1))\n",
              "      (8): BatchNorm2d(64, eps=1e-05, momentum=0.1, affine=True, track_running_stats=True)\n",
              "      (9): ReLU(inplace=True)\n",
              "      (10): Conv2d(64, 64, kernel_size=(3, 3), stride=(1, 1))\n",
              "      (11): BatchNorm2d(64, eps=1e-05, momentum=0.1, affine=True, track_running_stats=True)\n",
              "      (12): ReLU(inplace=True)\n",
              "      (13): MaxPool2d(kernel_size=2, stride=2, padding=0, dilation=1, ceil_mode=False)\n",
              "      (14): Flatten()\n",
              "      (15): MLP(\n",
              "        (mlp): Sequential(\n",
              "          (Linear_0): Linear(in_features=576, out_features=256, bias=True)\n",
              "          (ReLU_0): ReLU(inplace=True)\n",
              "          (Linear_1): Linear(in_features=256, out_features=128, bias=True)\n",
              "          (ReLU_1): ReLU(inplace=True)\n",
              "        )\n",
              "      )\n",
              "    )\n",
              "    (calc_mean): MLP(\n",
              "      (mlp): Sequential(\n",
              "        (Linear_0): Linear(in_features=144, out_features=64, bias=True)\n",
              "        (ReLU_0): ReLU(inplace=True)\n",
              "        (Linear_1): Linear(in_features=64, out_features=2, bias=True)\n",
              "      )\n",
              "    )\n",
              "    (calc_logvar): MLP(\n",
              "      (mlp): Sequential(\n",
              "        (Linear_0): Linear(in_features=144, out_features=64, bias=True)\n",
              "        (ReLU_0): ReLU(inplace=True)\n",
              "        (Linear_1): Linear(in_features=64, out_features=2, bias=True)\n",
              "      )\n",
              "    )\n",
              "  )\n",
              "  (decoder): Decoder(\n",
              "    (decode): Sequential(\n",
              "      (0): MLP(\n",
              "        (mlp): Sequential(\n",
              "          (Linear_0): Linear(in_features=18, out_features=64, bias=True)\n",
              "          (ReLU_0): ReLU(inplace=True)\n",
              "          (Linear_1): Linear(in_features=64, out_features=128, bias=True)\n",
              "          (ReLU_1): ReLU(inplace=True)\n",
              "          (Linear_2): Linear(in_features=128, out_features=256, bias=True)\n",
              "          (ReLU_2): ReLU(inplace=True)\n",
              "          (Linear_3): Linear(in_features=256, out_features=784, bias=True)\n",
              "        )\n",
              "      )\n",
              "      (1): Sigmoid()\n",
              "    )\n",
              "  )\n",
              "  (label_embedding): Embedding(10, 16)\n",
              ")"
            ]
          },
          "metadata": {},
          "execution_count": 8
        }
      ],
      "source": [
        "from torchsummary import summary\n",
        "view_model = cVAE((1, 28, 28), 10, nhid = 2, ncond = 16,device=device).to(device)\n",
        "#summary(view_model, input_size=(1,28,28))\n",
        "view_model"
      ]
    },
    {
      "cell_type": "markdown",
      "source": [
        "# Dataset"
      ],
      "metadata": {
        "id": "4N3xTl0IjLZZ"
      }
    },
    {
      "cell_type": "code",
      "source": [
        "# Download Mnist data\n",
        "train_set_mnist = torchvision.datasets.MNIST(\n",
        "    root='./data'\n",
        "    ,train=True\n",
        "    ,download=True\n",
        "    ,transform=transforms.Compose([\n",
        "        transforms.ToTensor()\n",
        "    ])\n",
        ")\n",
        "\n",
        "test_set_mnist = torchvision.datasets.MNIST(\n",
        "    root='./data'\n",
        "    ,train=False\n",
        "    ,download=True\n",
        "    ,transform=transforms.Compose([\n",
        "        transforms.ToTensor()\n",
        "    ])\n",
        ")"
      ],
      "metadata": {
        "colab": {
          "base_uri": "https://localhost:8080/"
        },
        "id": "wRN0ohirV5Ol",
        "outputId": "e0bad98d-9443-45aa-c9e0-688546340cae"
      },
      "execution_count": 17,
      "outputs": [
        {
          "output_type": "stream",
          "name": "stdout",
          "text": [
            "Downloading http://yann.lecun.com/exdb/mnist/train-images-idx3-ubyte.gz\n",
            "Downloading http://yann.lecun.com/exdb/mnist/train-images-idx3-ubyte.gz to ./data/MNIST/raw/train-images-idx3-ubyte.gz\n"
          ]
        },
        {
          "output_type": "stream",
          "name": "stderr",
          "text": [
            "100%|██████████| 9912422/9912422 [00:00<00:00, 109898525.66it/s]\n"
          ]
        },
        {
          "output_type": "stream",
          "name": "stdout",
          "text": [
            "Extracting ./data/MNIST/raw/train-images-idx3-ubyte.gz to ./data/MNIST/raw\n",
            "\n",
            "Downloading http://yann.lecun.com/exdb/mnist/train-labels-idx1-ubyte.gz\n",
            "Downloading http://yann.lecun.com/exdb/mnist/train-labels-idx1-ubyte.gz to ./data/MNIST/raw/train-labels-idx1-ubyte.gz\n"
          ]
        },
        {
          "output_type": "stream",
          "name": "stderr",
          "text": [
            "100%|██████████| 28881/28881 [00:00<00:00, 20986779.94it/s]\n"
          ]
        },
        {
          "output_type": "stream",
          "name": "stdout",
          "text": [
            "Extracting ./data/MNIST/raw/train-labels-idx1-ubyte.gz to ./data/MNIST/raw\n",
            "\n",
            "Downloading http://yann.lecun.com/exdb/mnist/t10k-images-idx3-ubyte.gz\n",
            "Downloading http://yann.lecun.com/exdb/mnist/t10k-images-idx3-ubyte.gz to ./data/MNIST/raw/t10k-images-idx3-ubyte.gz\n"
          ]
        },
        {
          "output_type": "stream",
          "name": "stderr",
          "text": [
            "100%|██████████| 1648877/1648877 [00:00<00:00, 27489065.00it/s]\n"
          ]
        },
        {
          "output_type": "stream",
          "name": "stdout",
          "text": [
            "Extracting ./data/MNIST/raw/t10k-images-idx3-ubyte.gz to ./data/MNIST/raw\n",
            "\n",
            "Downloading http://yann.lecun.com/exdb/mnist/t10k-labels-idx1-ubyte.gz\n",
            "Downloading http://yann.lecun.com/exdb/mnist/t10k-labels-idx1-ubyte.gz to ./data/MNIST/raw/t10k-labels-idx1-ubyte.gz\n"
          ]
        },
        {
          "output_type": "stream",
          "name": "stderr",
          "text": [
            "100%|██████████| 4542/4542 [00:00<00:00, 21697640.97it/s]\n"
          ]
        },
        {
          "output_type": "stream",
          "name": "stdout",
          "text": [
            "Extracting ./data/MNIST/raw/t10k-labels-idx1-ubyte.gz to ./data/MNIST/raw\n",
            "\n"
          ]
        }
      ]
    },
    {
      "cell_type": "code",
      "source": [
        "from torch.utils.data import Dataset\n",
        "class mnist_ds(Dataset):\n",
        "  def __init__(self, imageset):\n",
        "    self.imageset = imageset\n",
        "\n",
        "  def __getitem__(self, index):\n",
        "\n",
        "    image = self.imageset[index][0]\n",
        "    label = self.imageset[index][1]\n",
        "\n",
        "    if np.random.randn() > 0.5:\n",
        "        label = np.random.randint(0,10)\n",
        "\n",
        "    return image, label\n",
        "\n",
        "  def __len__(self):\n",
        "    return len(self.imageset)"
      ],
      "metadata": {
        "id": "vGQZJvGAV5SA"
      },
      "execution_count": 18,
      "outputs": []
    },
    {
      "cell_type": "code",
      "source": [
        "#Instantiate Train & test classes\n",
        "mnist_train = mnist_ds(train_set_mnist)\n",
        "mnist_test = mnist_ds(test_set_mnist)"
      ],
      "metadata": {
        "id": "tqMyHeIET66P"
      },
      "execution_count": 19,
      "outputs": []
    },
    {
      "cell_type": "code",
      "source": [
        "train_loader = torch.utils.data.DataLoader(\n",
        "    mnist_train,\n",
        "    batch_size=512, shuffle=True)\n",
        "test_loader = torch.utils.data.DataLoader(\n",
        "    mnist_test,\n",
        "    batch_size=25)"
      ],
      "metadata": {
        "id": "LDg-Y9BLvUu5"
      },
      "execution_count": 20,
      "outputs": []
    },
    {
      "cell_type": "markdown",
      "source": [
        "# VAE"
      ],
      "metadata": {
        "id": "QKUn82jktDoj"
      }
    },
    {
      "cell_type": "code",
      "source": [
        "learning_rate = 1e-3\n",
        "num_epochs = 20\n",
        "model = cVAE((1, 28, 28), 10, nhid = 2, ncond = 16,device=device).to(device)\n",
        "optimizer = torch.optim.Adam(model.parameters(), lr=learning_rate)\n",
        "criterion = nn.BCELoss(reduction = \"sum\")"
      ],
      "metadata": {
        "id": "vZ2QnPc_PoKr"
      },
      "execution_count": 21,
      "outputs": []
    },
    {
      "cell_type": "code",
      "source": [
        "model_tr1, train_losses1 = fit_model_vae(\n",
        "                                          model=model,\n",
        "                                          device=device,\n",
        "                                          trainloader=train_loader,\n",
        "                                          criterion = criterion,\n",
        "                                          EPOCHS=20,\n",
        "                                          optimizer=optimizer,\n",
        "                                          scheduler=None\n",
        "                                            )"
      ],
      "metadata": {
        "colab": {
          "base_uri": "https://localhost:8080/"
        },
        "id": "3lU13LmKPoRZ",
        "outputId": "c8f48350-253c-4c28-8615-cd818611ba37"
      },
      "execution_count": 22,
      "outputs": [
        {
          "output_type": "stream",
          "name": "stdout",
          "text": [
            "\n",
            "EPOCH: 1 (LR: 0.001)\n"
          ]
        },
        {
          "output_type": "stream",
          "name": "stderr",
          "text": [
            "100%|██████████| 118/118 [00:23<00:00,  5.07it/s]\n"
          ]
        },
        {
          "output_type": "stream",
          "name": "stdout",
          "text": [
            "\n",
            "Average Training Loss=233.52903427734375\n",
            "\n",
            "EPOCH: 2 (LR: 0.001)\n"
          ]
        },
        {
          "output_type": "stream",
          "name": "stderr",
          "text": [
            "100%|██████████| 118/118 [00:15<00:00,  7.66it/s]\n"
          ]
        },
        {
          "output_type": "stream",
          "name": "stdout",
          "text": [
            "\n",
            "Average Training Loss=177.84206256510416\n",
            "\n",
            "EPOCH: 3 (LR: 0.001)\n"
          ]
        },
        {
          "output_type": "stream",
          "name": "stderr",
          "text": [
            "100%|██████████| 118/118 [00:15<00:00,  7.82it/s]\n"
          ]
        },
        {
          "output_type": "stream",
          "name": "stdout",
          "text": [
            "\n",
            "Average Training Loss=166.1343123860677\n",
            "\n",
            "EPOCH: 4 (LR: 0.001)\n"
          ]
        },
        {
          "output_type": "stream",
          "name": "stderr",
          "text": [
            "100%|██████████| 118/118 [00:14<00:00,  8.06it/s]\n"
          ]
        },
        {
          "output_type": "stream",
          "name": "stdout",
          "text": [
            "\n",
            "Average Training Loss=159.2391448404948\n",
            "\n",
            "EPOCH: 5 (LR: 0.001)\n"
          ]
        },
        {
          "output_type": "stream",
          "name": "stderr",
          "text": [
            "100%|██████████| 118/118 [00:14<00:00,  7.91it/s]\n"
          ]
        },
        {
          "output_type": "stream",
          "name": "stdout",
          "text": [
            "\n",
            "Average Training Loss=155.53579384765624\n",
            "\n",
            "EPOCH: 6 (LR: 0.001)\n"
          ]
        },
        {
          "output_type": "stream",
          "name": "stderr",
          "text": [
            "100%|██████████| 118/118 [00:14<00:00,  7.99it/s]\n"
          ]
        },
        {
          "output_type": "stream",
          "name": "stdout",
          "text": [
            "\n",
            "Average Training Loss=152.6840883951823\n",
            "\n",
            "EPOCH: 7 (LR: 0.001)\n"
          ]
        },
        {
          "output_type": "stream",
          "name": "stderr",
          "text": [
            "100%|██████████| 118/118 [00:15<00:00,  7.62it/s]\n"
          ]
        },
        {
          "output_type": "stream",
          "name": "stdout",
          "text": [
            "\n",
            "Average Training Loss=150.344774609375\n",
            "\n",
            "EPOCH: 8 (LR: 0.001)\n"
          ]
        },
        {
          "output_type": "stream",
          "name": "stderr",
          "text": [
            "100%|██████████| 118/118 [00:14<00:00,  7.89it/s]\n"
          ]
        },
        {
          "output_type": "stream",
          "name": "stdout",
          "text": [
            "\n",
            "Average Training Loss=148.26826910807293\n",
            "\n",
            "EPOCH: 9 (LR: 0.001)\n"
          ]
        },
        {
          "output_type": "stream",
          "name": "stderr",
          "text": [
            "100%|██████████| 118/118 [00:14<00:00,  7.93it/s]\n"
          ]
        },
        {
          "output_type": "stream",
          "name": "stdout",
          "text": [
            "\n",
            "Average Training Loss=146.5745034830729\n",
            "\n",
            "EPOCH: 10 (LR: 0.001)\n"
          ]
        },
        {
          "output_type": "stream",
          "name": "stderr",
          "text": [
            "100%|██████████| 118/118 [00:14<00:00,  8.00it/s]\n"
          ]
        },
        {
          "output_type": "stream",
          "name": "stdout",
          "text": [
            "\n",
            "Average Training Loss=145.14371591796876\n",
            "\n",
            "EPOCH: 11 (LR: 0.001)\n"
          ]
        },
        {
          "output_type": "stream",
          "name": "stderr",
          "text": [
            "100%|██████████| 118/118 [00:15<00:00,  7.64it/s]\n"
          ]
        },
        {
          "output_type": "stream",
          "name": "stdout",
          "text": [
            "\n",
            "Average Training Loss=144.17279329427083\n",
            "\n",
            "EPOCH: 12 (LR: 0.001)\n"
          ]
        },
        {
          "output_type": "stream",
          "name": "stderr",
          "text": [
            "100%|██████████| 118/118 [00:14<00:00,  8.04it/s]\n"
          ]
        },
        {
          "output_type": "stream",
          "name": "stdout",
          "text": [
            "\n",
            "Average Training Loss=143.56282454427082\n",
            "\n",
            "EPOCH: 13 (LR: 0.001)\n"
          ]
        },
        {
          "output_type": "stream",
          "name": "stderr",
          "text": [
            "100%|██████████| 118/118 [00:14<00:00,  8.02it/s]\n"
          ]
        },
        {
          "output_type": "stream",
          "name": "stdout",
          "text": [
            "\n",
            "Average Training Loss=142.56510970052082\n",
            "\n",
            "EPOCH: 14 (LR: 0.001)\n"
          ]
        },
        {
          "output_type": "stream",
          "name": "stderr",
          "text": [
            "100%|██████████| 118/118 [00:14<00:00,  8.10it/s]\n"
          ]
        },
        {
          "output_type": "stream",
          "name": "stdout",
          "text": [
            "\n",
            "Average Training Loss=141.89107041015626\n",
            "\n",
            "EPOCH: 15 (LR: 0.001)\n"
          ]
        },
        {
          "output_type": "stream",
          "name": "stderr",
          "text": [
            "100%|██████████| 118/118 [00:15<00:00,  7.84it/s]\n"
          ]
        },
        {
          "output_type": "stream",
          "name": "stdout",
          "text": [
            "\n",
            "Average Training Loss=141.34395966796876\n",
            "\n",
            "EPOCH: 16 (LR: 0.001)\n"
          ]
        },
        {
          "output_type": "stream",
          "name": "stderr",
          "text": [
            "100%|██████████| 118/118 [00:15<00:00,  7.81it/s]\n"
          ]
        },
        {
          "output_type": "stream",
          "name": "stdout",
          "text": [
            "\n",
            "Average Training Loss=140.87651419270833\n",
            "\n",
            "EPOCH: 17 (LR: 0.001)\n"
          ]
        },
        {
          "output_type": "stream",
          "name": "stderr",
          "text": [
            "100%|██████████| 118/118 [00:15<00:00,  7.87it/s]\n"
          ]
        },
        {
          "output_type": "stream",
          "name": "stdout",
          "text": [
            "\n",
            "Average Training Loss=140.45737490234376\n",
            "\n",
            "EPOCH: 18 (LR: 0.001)\n"
          ]
        },
        {
          "output_type": "stream",
          "name": "stderr",
          "text": [
            "100%|██████████| 118/118 [00:14<00:00,  8.04it/s]\n"
          ]
        },
        {
          "output_type": "stream",
          "name": "stdout",
          "text": [
            "\n",
            "Average Training Loss=140.11415846354166\n",
            "\n",
            "EPOCH: 19 (LR: 0.001)\n"
          ]
        },
        {
          "output_type": "stream",
          "name": "stderr",
          "text": [
            "100%|██████████| 118/118 [00:14<00:00,  8.02it/s]\n"
          ]
        },
        {
          "output_type": "stream",
          "name": "stdout",
          "text": [
            "\n",
            "Average Training Loss=139.87040138346353\n",
            "\n",
            "EPOCH: 20 (LR: 0.001)\n"
          ]
        },
        {
          "output_type": "stream",
          "name": "stderr",
          "text": [
            "100%|██████████| 118/118 [00:15<00:00,  7.66it/s]"
          ]
        },
        {
          "output_type": "stream",
          "name": "stdout",
          "text": [
            "\n",
            "Average Training Loss=139.36614853515624\n"
          ]
        },
        {
          "output_type": "stream",
          "name": "stderr",
          "text": [
            "\n"
          ]
        }
      ]
    },
    {
      "cell_type": "markdown",
      "source": [
        "# Generate Image"
      ],
      "metadata": {
        "id": "BRMgb6d3jQyU"
      }
    },
    {
      "cell_type": "code",
      "source": [
        "number = 9\n",
        "with torch.no_grad():\n",
        "    x = model.generate(number)"
      ],
      "metadata": {
        "id": "MRD0-qBsowW4"
      },
      "execution_count": 23,
      "outputs": []
    },
    {
      "cell_type": "code",
      "source": [
        "from matplotlib import pyplot as plt\n",
        "from matplotlib import cm"
      ],
      "metadata": {
        "id": "lsFFRKgcVCmo"
      },
      "execution_count": 24,
      "outputs": []
    },
    {
      "cell_type": "code",
      "source": [
        "plt.imshow(x.squeeze(0).cpu().numpy(), cm.gray)"
      ],
      "metadata": {
        "colab": {
          "base_uri": "https://localhost:8080/",
          "height": 447
        },
        "id": "Xw44MsszVC1v",
        "outputId": "ff5cfcb3-6687-4cda-b197-8c8b36965e44"
      },
      "execution_count": 25,
      "outputs": [
        {
          "output_type": "execute_result",
          "data": {
            "text/plain": [
              "<matplotlib.image.AxesImage at 0x79e1cfd4cd60>"
            ]
          },
          "metadata": {},
          "execution_count": 25
        },
        {
          "output_type": "display_data",
          "data": {
            "text/plain": [
              "<Figure size 640x480 with 1 Axes>"
            ],
            "image/png": "[encoded data removed]"
          },
          "metadata": {}
        }
      ]
    },
    {
      "cell_type": "code",
      "source": [
        "with torch.no_grad():\n",
        "    x = model.generate(torch.tensor([list(range(10))] * 5).clone().view(-1))\n",
        "\n",
        "for i in range(50):\n",
        "    plt.subplot(5, 10, i+1)\n",
        "    plt.axis(\"off\")\n",
        "    plt.imshow(x[i].squeeze(0).cpu().numpy(), cm.gray)"
      ],
      "metadata": {
        "colab": {
          "base_uri": "https://localhost:8080/",
          "height": 384
        },
        "id": "Utj1orwCVH5S",
        "outputId": "d703c77b-7dfe-4c30-c51a-af0fff1c02cc"
      },
      "execution_count": 26,
      "outputs": [
        {
          "output_type": "display_data",
          "data": {
            "text/plain": [
              "<Figure size 640x480 with 50 Axes>"
            ],
            "image/png": "[encoded data removed]"
          },
          "metadata": {}
        }
      ]
    },
    {
      "cell_type": "markdown",
      "source": [
        "# Incorrect Labels"
      ],
      "metadata": {
        "id": "CkT8l1DpjWxW"
      }
    },
    {
      "cell_type": "code",
      "source": [
        "dataiter = iter(test_loader)\n",
        "data_next = next(dataiter)\n",
        "images, labels = data_next"
      ],
      "metadata": {
        "id": "oHmTWPpUVfo5"
      },
      "execution_count": 27,
      "outputs": []
    },
    {
      "cell_type": "code",
      "source": [
        "labels_1 = []\n",
        "for i in labels:\n",
        "    incorrect_label = torch.randint(low=0, high=10, size=(1,)).item()\n",
        "    while incorrect_label == i:\n",
        "        incorrect_label = torch.randint(low=0, high=10, size=(1,)).item()\n",
        "    labels_1.append(incorrect_label)"
      ],
      "metadata": {
        "id": "ThOnNW7rh3nn"
      },
      "execution_count": 28,
      "outputs": []
    },
    {
      "cell_type": "code",
      "source": [
        "labels_c = torch.IntTensor(labels_1)\n",
        "images, labels_c = images.to(device), labels_c.to(device)\n",
        "with torch.no_grad():\n",
        "    X_hat1, _,_ = model(images, labels_c)"
      ],
      "metadata": {
        "id": "ner22B6yh3pq"
      },
      "execution_count": 29,
      "outputs": []
    },
    {
      "cell_type": "code",
      "source": [
        "j = 0\n",
        "fig = plt.figure(figsize=(15,15))\n",
        "for i in range(25):\n",
        "    lbl_corr = labels[i]\n",
        "    img_corr = images[i]\n",
        "    img_new = X_hat1[i]\n",
        "    lbl_new = labels_c[i]\n",
        "    j = j+1\n",
        "    ax = fig.add_subplot(10, 10,j )\n",
        "    ax.axis(\"off\")\n",
        "    ax.imshow(img_corr.squeeze(0).cpu().numpy(), cm.gray)\n",
        "    ax.set_title(f'\\n Incorrect Label: {lbl_new.detach()}',fontsize=10)\n",
        "    j = j+1\n",
        "    ax = fig.add_subplot(10, 10, j)\n",
        "    ax.axis(\"off\")\n",
        "    ax.imshow(img_new.squeeze(0).cpu().detach().numpy(), cm.gray)"
      ],
      "metadata": {
        "colab": {
          "base_uri": "https://localhost:8080/",
          "height": 640
        },
        "id": "GPz8S1j4h3tU",
        "outputId": "820d4184-19c2-4a7e-f7b1-312195486099"
      },
      "execution_count": 30,
      "outputs": [
        {
          "output_type": "display_data",
          "data": {
            "text/plain": [
              "<Figure size 1500x1500 with 50 Axes>"
            ],
            "image/png": "[encoded data removed]"
          },
          "metadata": {}
        }
      ]
    },
    {
      "cell_type": "code",
      "source": [],
      "metadata": {
        "id": "rNE4ox0EYTct"
      },
      "execution_count": null,
      "outputs": []
    }
  ],
  "metadata": {
    "accelerator": "GPU",
    "colab": {
      "provenance": []
    },
    "kernelspec": {
      "display_name": "Python 3",
      "name": "python3"
    }
  },
  "nbformat": 4,
  "nbformat_minor": 0
}